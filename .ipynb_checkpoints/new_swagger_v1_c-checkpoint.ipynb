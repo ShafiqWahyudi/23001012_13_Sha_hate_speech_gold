{
 "cells": [
  {
   "cell_type": "code",
   "execution_count": null,
   "id": "3ba7ef90",
   "metadata": {
    "tags": []
   },
   "outputs": [],
   "source": [
    "import pandas as pd\n",
    "\n",
    "from flask import request, Flask, jsonify\n",
    "from flasgger import Swagger, LazyString, LazyJSONEncoder, swag_from\n",
    "\n",
    "import re\n",
    "# import sqlite3\n",
    "\n",
    "# conn = sqlite3.connect('myproject.db')\n",
    "# conn.execute(\"create table if not exists cleansing_result (raw_tweet varchar(255), cleaned_tweet varchar(255));\")\n",
    "\n",
    "app = Flask(__name__)\n",
    "\n",
    "app.json_encoder = LazyJSONEncoder\n",
    "swagger_template = dict(\n",
    "info = {\n",
    "    'title': LazyString(lambda: 'API Documentation for Data Processing and Modeling'),\n",
    "    'version': LazyString(lambda: '1.0.0'),\n",
    "    'description': LazyString(lambda: 'Dokumentasi API untuk Data Processing and Modeling')\n",
    "    },\n",
    "    host = LazyString(lambda: request.host)\n",
    ")\n",
    "\n",
    "swagger_config = {\n",
    "    \"headers\": [],\n",
    "    \"specs\": [\n",
    "        {\n",
    "            \"endpoint\": 'docs',\n",
    "            \"route\": '/docs.json'\n",
    "        }\n",
    "    ],\n",
    "    \"static_url_path\": \"/flasgger_static\",\n",
    "    \"swagger_ui\": True,\n",
    "    \"specs_route\": \"/docs/\"\n",
    "}\n",
    "swagger = Swagger(app, template=swagger_template,\n",
    "                 config=swagger_config)\n",
    "\n",
    "@swag_from(r\"D:/MY 2020 DATA JOURNEY/FROM D MY DOCUMENT/BINAR ACADEMY/docs/hello_world.yml\", methods=['GET'])\n",
    "@app.route('/', methods=['GET'])\n",
    "def hello_world():\n",
    "    json_response = {\n",
    "        'status_code': 200,\n",
    "        'description': \"Menyapa Hello World\",\n",
    "        'data': \"Hello World\"\n",
    "    }\n",
    "    \n",
    "    response_data=jsonify(json_response)\n",
    "    return response_data\n",
    "\n",
    "@swag_from(r\"D:/MY 2020 DATA JOURNEY/FROM D MY DOCUMENT/BINAR ACADEMY/docs/text_processing_2.yml\", methods=['POST'])\n",
    "@app.route('/text-processing', methods=['POST'])\n",
    "def text_processing():\n",
    "    global text\n",
    "    \n",
    "    text = request.form.get('text')\n",
    "    \n",
    "    json_response = {\n",
    "        'status_code': 200,\n",
    "        'description': \"Teks yang baru saja diinput\",\n",
    "        'data': text\n",
    "    }\n",
    "    \n",
    "    response_data=jsonify(json_response)\n",
    "    return response_data\n",
    "\n",
    "@swag_from(r\"D:/MY 2020 DATA JOURNEY/FROM D MY DOCUMENT/BINAR ACADEMY/docs/file_processing.yml\", methods=['POST'])\n",
    "@app.route('/text-processing-file', methods=['POST'])\n",
    "def text_processing_file():\n",
    "    global file, df, new_df, final_df\n",
    "    \n",
    "    file = request.files.get('file')\n",
    "    \n",
    "    df = pd.read_csv(file,delimiter=\";\")\n",
    "    \n",
    "    json_response = {\n",
    "        'status_code': 200,\n",
    "        'description': \"File berisi teks yang akan diproses\",\n",
    "        'data': \"File berhasil diinput dan diproses\"\n",
    "    }\n",
    "    \n",
    "    new_list = []\n",
    "    for i in range(len(df)):\n",
    "        cleaned_sample_string_a = re.sub('_',\"\" ,df['class_nm'].iloc[i])\n",
    "        cleaned_sample_string_b = re.sub(r'[^a-zA-Z0-9]',\"a\" ,cleaned_sample_string_a)\n",
    "        new_list.append(cleaned_sample_string_b)\n",
    "    \n",
    "    new_df = df.copy()\n",
    "\n",
    "    new_df['class_nm'] = new_list\n",
    "    \n",
    "    final_df = pd.concat([df['class_nm'],new_df['class_nm']],axis=1)\n",
    "    final_df.columns = ['old','new']\n",
    "    \n",
    "\n",
    "    \n",
    "    response_data=jsonify(json_response)\n",
    "    return response_data\n",
    "\n",
    "if __name__ == \"__main__\":\n",
    "    app.run()"
   ]
  },
  {
   "cell_type": "code",
   "execution_count": null,
   "id": "456faff7-dc1e-46a3-b550-04be1cf14660",
   "metadata": {
    "tags": []
   },
   "outputs": [],
   "source": [
    "final_df"
   ]
  },
  {
   "cell_type": "code",
   "execution_count": null,
   "id": "fcef857c-3a0d-4da6-880a-547ccb83a418",
   "metadata": {
    "tags": []
   },
   "outputs": [],
   "source": [
    "import sqlite3\n",
    "\n",
    "conn = sqlite3.connect('myproject.db')\n",
    "conn.execute(\"create table if not exists cleansing_result_b (raw_tweet varchar(255), cleaned_tweet varchar(255));\")"
   ]
  },
  {
   "cell_type": "code",
   "execution_count": null,
   "id": "848eb134-6242-4da3-b941-8dfae297a2d2",
   "metadata": {
    "tags": []
   },
   "outputs": [],
   "source": [
    "final_df.head()"
   ]
  },
  {
   "cell_type": "code",
   "execution_count": null,
   "id": "ddf4026f-dc5b-4aab-a97c-355272f90b2e",
   "metadata": {
    "tags": []
   },
   "outputs": [],
   "source": [
    "for i in range(len(final_df)):\n",
    "    old = final_df['old'].iloc[i]\n",
    "    new = final_df['new'].iloc[i]\n",
    "    \n",
    "    conn.execute(\"insert into cleansing_result_b (raw_tweet, cleaned_tweet) values ('\"+old+\"','\"+new+\"');\")\n",
    "    conn.commit()"
   ]
  },
  {
   "cell_type": "code",
   "execution_count": null,
   "id": "3ed9bc62-11be-457f-8eea-7ed8656f1b28",
   "metadata": {
    "tags": []
   },
   "outputs": [],
   "source": [
    "select_all = \"select * from cleansing_result_b\"\n",
    "cursor = conn.execute(select_all)\n",
    "all_rows = cursor.fetchall()"
   ]
  },
  {
   "cell_type": "code",
   "execution_count": null,
   "id": "989cd8fa-bd05-4c14-972b-5a53cdfac59d",
   "metadata": {
    "tags": []
   },
   "outputs": [],
   "source": [
    "all_rows"
   ]
  },
  {
   "cell_type": "code",
   "execution_count": null,
   "id": "8a080c1f-8dbc-4e7e-9215-7eea142c28f7",
   "metadata": {
    "tags": []
   },
   "outputs": [],
   "source": [
    "col_names = \"PRAGMA table_info(cleansing_result_b)\"\n",
    "cursor = conn.execute(col_names)\n",
    "col_result = cursor.fetchall()"
   ]
  },
  {
   "cell_type": "code",
   "execution_count": null,
   "id": "fef17091-88e8-4d3b-be22-8e6992f80102",
   "metadata": {
    "tags": []
   },
   "outputs": [],
   "source": [
    "col_result"
   ]
  },
  {
   "cell_type": "code",
   "execution_count": null,
   "id": "1982e76b-2057-470a-a6f3-01647cb28803",
   "metadata": {
    "tags": []
   },
   "outputs": [],
   "source": [
    "list_col_names = []\n",
    "\n",
    "for i in range(len(col_result)):\n",
    "    list_col_names.append(col_result[i][1])\n",
    "\n",
    "list_col_names"
   ]
  },
  {
   "cell_type": "code",
   "execution_count": null,
   "id": "f4e81bc3-b757-45a3-be15-caf59ccd6161",
   "metadata": {
    "tags": []
   },
   "outputs": [],
   "source": [
    "all_rows"
   ]
  },
  {
   "cell_type": "code",
   "execution_count": null,
   "id": "c10ea08a-dc58-4ec5-82b0-20d230ac3caa",
   "metadata": {
    "tags": []
   },
   "outputs": [],
   "source": [
    "list_row_col_a = []\n",
    "list_row_col_b = []\n",
    "\n",
    "for i in range(len(all_rows)):\n",
    "    list_row_col_a.append(all_rows[i][0])\n",
    "    list_row_col_b.append(all_rows[i][1])\n",
    "\n",
    "list_row_col_a"
   ]
  },
  {
   "cell_type": "code",
   "execution_count": null,
   "id": "cf9e8516-50af-40d9-bf36-383bdf7d6874",
   "metadata": {
    "tags": []
   },
   "outputs": [],
   "source": [
    "list_row_col_b"
   ]
  },
  {
   "cell_type": "code",
   "execution_count": null,
   "id": "7ca4bbe8-5ce4-45cb-9388-8226b7657ed0",
   "metadata": {
    "tags": []
   },
   "outputs": [],
   "source": [
    "new_df_from_db = pd.DataFrame(columns=list_col_names)\n",
    "new_df_from_db['raw_tweet'] = list_row_col_a\n",
    "new_df_from_db['cleaned_tweet'] = list_row_col_b\n",
    "\n",
    "new_df_from_db"
   ]
  },
  {
   "cell_type": "code",
   "execution_count": null,
   "id": "db7c073c-806a-4377-b15c-fc1c6c88ccfa",
   "metadata": {},
   "outputs": [],
   "source": []
  }
 ],
 "metadata": {
  "kernelspec": {
   "display_name": "myenv",
   "language": "python",
   "name": "myenv"
  },
  "language_info": {
   "codemirror_mode": {
    "name": "ipython",
    "version": 3
   },
   "file_extension": ".py",
   "mimetype": "text/x-python",
   "name": "python",
   "nbconvert_exporter": "python",
   "pygments_lexer": "ipython3",
   "version": "3.11.2"
  }
 },
 "nbformat": 4,
 "nbformat_minor": 5
}
