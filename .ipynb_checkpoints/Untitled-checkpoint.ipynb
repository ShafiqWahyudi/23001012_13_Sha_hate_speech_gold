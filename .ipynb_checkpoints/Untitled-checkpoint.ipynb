{
 "cells": [
  {
   "cell_type": "code",
   "execution_count": 1,
   "id": "5943c7cb-6ffa-4ebd-87a3-6830ea53a364",
   "metadata": {
    "tags": []
   },
   "outputs": [],
   "source": [
    "import pandas as pd\n",
    "import re"
   ]
  },
  {
   "cell_type": "code",
   "execution_count": 2,
   "id": "00cfac46-b1cd-484f-8ee8-962c20e22024",
   "metadata": {
    "tags": []
   },
   "outputs": [],
   "source": [
    "df = pd.read_csv('data.csv', encoding='latin-1')"
   ]
  },
  {
   "cell_type": "code",
   "execution_count": null,
   "id": "072c7e4e-414a-4a93-ad32-0f084692c798",
   "metadata": {
    "tags": []
   },
   "outputs": [],
   "source": []
  },
  {
   "cell_type": "code",
   "execution_count": 3,
   "id": "60c6d33c-e76a-4a76-8527-bd8c60ac75d4",
   "metadata": {
    "tags": []
   },
   "outputs": [],
   "source": [
    "new_list = []\n",
    "for i in range(len(df)):\n",
    "    cleaned_text_a = re.sub(r'[^a-zA-Z0-9]',\" \" ,df['Tweet'].iloc[i])\n",
    "    cleaned_text_b = re.sub('RT',' ', cleaned_text_a)\n",
    "    cleaned_text_c = re.sub('\\\\+n',' ', cleaned_text_b)\n",
    "    cleaned_text_d = re.sub('rt',' ', cleaned_text_c)\n",
    "    cleaned_text_e = re.sub('user',' ', cleaned_text_d)\n",
    "    cleaned_text_f = re.sub('USER',' ', cleaned_text_e)\n",
    "    cleaned_text_g = re.sub('((www\\.[^\\s]+)|(https?://[^\\s]+)|(http?://[^\\s]+))',' ', cleaned_text_f)\n",
    "    cleaned_text_h = re.sub(':',' ', cleaned_text_g)\n",
    "    cleaned_text_i = re.sub(';',' ', cleaned_text_h)\n",
    "    cleaned_text_j = re.sub('\\\\+',' ', cleaned_text_i)\n",
    "    cleaned_text_k = re.sub('  +',' ', cleaned_text_j)\n",
    "    cleaned_text_l = re.sub('x..',' ', cleaned_text_k)\n",
    "    cleaned_text_m = re.sub(' n ',' ', cleaned_text_l)\n",
    "    new_list.append(cleaned_text_m)\n",
    "    \n",
    "new_df = df.copy()\n",
    "\n",
    "new_df['Tweet'] = new_list\n",
    "    \n",
    "final_df = pd.concat([df['Tweet'],new_df['Tweet']],axis=1)\n",
    "final_df.columns = ['old','new']\n",
    "    \n"
   ]
  },
  {
   "cell_type": "code",
   "execution_count": 4,
   "id": "c3d615cd-bbfa-410b-9cb1-ec99c8c1df61",
   "metadata": {
    "tags": []
   },
   "outputs": [
    {
     "data": {
      "text/html": [
       "<div>\n",
       "<style scoped>\n",
       "    .dataframe tbody tr th:only-of-type {\n",
       "        vertical-align: middle;\n",
       "    }\n",
       "\n",
       "    .dataframe tbody tr th {\n",
       "        vertical-align: top;\n",
       "    }\n",
       "\n",
       "    .dataframe thead th {\n",
       "        text-align: right;\n",
       "    }\n",
       "</style>\n",
       "<table border=\"1\" class=\"dataframe\">\n",
       "  <thead>\n",
       "    <tr style=\"text-align: right;\">\n",
       "      <th></th>\n",
       "      <th>old</th>\n",
       "      <th>new</th>\n",
       "    </tr>\n",
       "  </thead>\n",
       "  <tbody>\n",
       "    <tr>\n",
       "      <th>0</th>\n",
       "      <td>- disaat semua cowok berusaha melacak perhatia...</td>\n",
       "      <td>disaat semua cowok berusaha melacak perhatian...</td>\n",
       "    </tr>\n",
       "    <tr>\n",
       "      <th>1</th>\n",
       "      <td>RT USER: USER siapa yang telat ngasih tau elu?...</td>\n",
       "      <td>siapa yang telat ngasih tau elu edan sarap gu...</td>\n",
       "    </tr>\n",
       "    <tr>\n",
       "      <th>2</th>\n",
       "      <td>41. Kadang aku berfikir, kenapa aku tetap perc...</td>\n",
       "      <td>41 Kadang aku berfikir kenapa aku tetap percay...</td>\n",
       "    </tr>\n",
       "    <tr>\n",
       "      <th>3</th>\n",
       "      <td>USER USER AKU ITU AKU\\n\\nKU TAU MATAMU SIPIT T...</td>\n",
       "      <td>AKU ITU AKU nKU TAU MATAMU SIPIT TAPI DILIAT ...</td>\n",
       "    </tr>\n",
       "    <tr>\n",
       "      <th>4</th>\n",
       "      <td>USER USER Kaum cebong kapir udah keliatan dong...</td>\n",
       "      <td>Kaum cebong kapir udah keliatan dongoknya dar...</td>\n",
       "    </tr>\n",
       "    <tr>\n",
       "      <th>...</th>\n",
       "      <td>...</td>\n",
       "      <td>...</td>\n",
       "    </tr>\n",
       "    <tr>\n",
       "      <th>13164</th>\n",
       "      <td>USER jangan asal ngomong ndasmu. congor lu yg ...</td>\n",
       "      <td>jangan asal ngomong ndasmu congor lu yg sekat...</td>\n",
       "    </tr>\n",
       "    <tr>\n",
       "      <th>13165</th>\n",
       "      <td>USER Kasur mana enak kunyuk'</td>\n",
       "      <td>Kasur mana enak kunyuk</td>\n",
       "    </tr>\n",
       "    <tr>\n",
       "      <th>13166</th>\n",
       "      <td>USER Hati hati bisu :( .g\\n\\nlagi bosan huft \\...</td>\n",
       "      <td>Hati hati bisu g nlagi bosan huft</td>\n",
       "    </tr>\n",
       "    <tr>\n",
       "      <th>13167</th>\n",
       "      <td>USER USER USER USER Bom yang real mudah terdet...</td>\n",
       "      <td>Bom yang real mudah terdeteksi bom yang terku...</td>\n",
       "    </tr>\n",
       "    <tr>\n",
       "      <th>13168</th>\n",
       "      <td>USER Mana situ ngasih(\": itu cuma foto ya kuti...</td>\n",
       "      <td>Mana situ ngasih itu cuma foto ya kutil onta</td>\n",
       "    </tr>\n",
       "  </tbody>\n",
       "</table>\n",
       "<p>13169 rows × 2 columns</p>\n",
       "</div>"
      ],
      "text/plain": [
       "                                                     old  \\\n",
       "0      - disaat semua cowok berusaha melacak perhatia...   \n",
       "1      RT USER: USER siapa yang telat ngasih tau elu?...   \n",
       "2      41. Kadang aku berfikir, kenapa aku tetap perc...   \n",
       "3      USER USER AKU ITU AKU\\n\\nKU TAU MATAMU SIPIT T...   \n",
       "4      USER USER Kaum cebong kapir udah keliatan dong...   \n",
       "...                                                  ...   \n",
       "13164  USER jangan asal ngomong ndasmu. congor lu yg ...   \n",
       "13165                       USER Kasur mana enak kunyuk'   \n",
       "13166  USER Hati hati bisu :( .g\\n\\nlagi bosan huft \\...   \n",
       "13167  USER USER USER USER Bom yang real mudah terdet...   \n",
       "13168  USER Mana situ ngasih(\": itu cuma foto ya kuti...   \n",
       "\n",
       "                                                     new  \n",
       "0       disaat semua cowok berusaha melacak perhatian...  \n",
       "1       siapa yang telat ngasih tau elu edan sarap gu...  \n",
       "2      41 Kadang aku berfikir kenapa aku tetap percay...  \n",
       "3       AKU ITU AKU nKU TAU MATAMU SIPIT TAPI DILIAT ...  \n",
       "4       Kaum cebong kapir udah keliatan dongoknya dar...  \n",
       "...                                                  ...  \n",
       "13164   jangan asal ngomong ndasmu congor lu yg sekat...  \n",
       "13165                            Kasur mana enak kunyuk   \n",
       "13166         Hati hati bisu g nlagi bosan huft           \n",
       "13167   Bom yang real mudah terdeteksi bom yang terku...  \n",
       "13168      Mana situ ngasih itu cuma foto ya kutil onta   \n",
       "\n",
       "[13169 rows x 2 columns]"
      ]
     },
     "execution_count": 4,
     "metadata": {},
     "output_type": "execute_result"
    }
   ],
   "source": [
    "final_df"
   ]
  },
  {
   "cell_type": "code",
   "execution_count": 17,
   "id": "b2bafff9-1e60-44a9-81de-4d232539811b",
   "metadata": {
    "tags": []
   },
   "outputs": [
    {
     "data": {
      "text/plain": [
       "<sqlite3.Cursor at 0x1ea1e153440>"
      ]
     },
     "execution_count": 17,
     "metadata": {},
     "output_type": "execute_result"
    }
   ],
   "source": [
    "import sqlite3\n",
    "\n",
    "conn = sqlite3.connect('clean.db')\n",
    "conn.execute(\"create table if not exists cleansing_result_b (raw_tweet varchar(255), cleaned_tweet varchar(255));\")"
   ]
  },
  {
   "cell_type": "code",
   "execution_count": 19,
   "id": "6ae8cda3-2483-443d-b15a-51ef563a7b6a",
   "metadata": {
    "tags": []
   },
   "outputs": [
    {
     "data": {
      "text/plain": [
       "13169"
      ]
     },
     "execution_count": 19,
     "metadata": {},
     "output_type": "execute_result"
    }
   ],
   "source": [
    "final_df.to_sql('cleansing_result_b', conn, if_exists='replace', index=False)"
   ]
  },
  {
   "cell_type": "code",
   "execution_count": 22,
   "id": "bc0ca84c-09bc-42ee-9c2b-870046c25f1a",
   "metadata": {
    "tags": []
   },
   "outputs": [],
   "source": [
    "select_all = \"select * from cleansing_result_b\"\n",
    "cursor = conn.execute(select_all)\n",
    "all_rows = cursor.fetchall()"
   ]
  },
  {
   "cell_type": "code",
   "execution_count": 20,
   "id": "105b7f8b-1dea-4120-b6e1-f44cc2b320d4",
   "metadata": {
    "tags": []
   },
   "outputs": [],
   "source": [
    "query = \"SELECT * FROM cleansing_result_b\"  # Gantilah 'cleansing_result_b' dengan nama tabel yang sesuai\n",
    "df_sql = pd.read_sql_query(query, conn)"
   ]
  },
  {
   "cell_type": "code",
   "execution_count": 21,
   "id": "148697c3-043b-4a59-b9ca-e237051132ad",
   "metadata": {
    "tags": []
   },
   "outputs": [
    {
     "data": {
      "text/html": [
       "<div>\n",
       "<style scoped>\n",
       "    .dataframe tbody tr th:only-of-type {\n",
       "        vertical-align: middle;\n",
       "    }\n",
       "\n",
       "    .dataframe tbody tr th {\n",
       "        vertical-align: top;\n",
       "    }\n",
       "\n",
       "    .dataframe thead th {\n",
       "        text-align: right;\n",
       "    }\n",
       "</style>\n",
       "<table border=\"1\" class=\"dataframe\">\n",
       "  <thead>\n",
       "    <tr style=\"text-align: right;\">\n",
       "      <th></th>\n",
       "      <th>old</th>\n",
       "      <th>new</th>\n",
       "    </tr>\n",
       "  </thead>\n",
       "  <tbody>\n",
       "    <tr>\n",
       "      <th>0</th>\n",
       "      <td>- disaat semua cowok berusaha melacak perhatia...</td>\n",
       "      <td>disaat semua cowok berusaha melacak perhatian...</td>\n",
       "    </tr>\n",
       "    <tr>\n",
       "      <th>1</th>\n",
       "      <td>RT USER: USER siapa yang telat ngasih tau elu?...</td>\n",
       "      <td>siapa yang telat ngasih tau elu edan sarap gu...</td>\n",
       "    </tr>\n",
       "    <tr>\n",
       "      <th>2</th>\n",
       "      <td>41. Kadang aku berfikir, kenapa aku tetap perc...</td>\n",
       "      <td>41 Kadang aku berfikir kenapa aku tetap percay...</td>\n",
       "    </tr>\n",
       "    <tr>\n",
       "      <th>3</th>\n",
       "      <td>USER USER AKU ITU AKU\\n\\nKU TAU MATAMU SIPIT T...</td>\n",
       "      <td>AKU ITU AKU nKU TAU MATAMU SIPIT TAPI DILIAT ...</td>\n",
       "    </tr>\n",
       "    <tr>\n",
       "      <th>4</th>\n",
       "      <td>USER USER Kaum cebong kapir udah keliatan dong...</td>\n",
       "      <td>Kaum cebong kapir udah keliatan dongoknya dar...</td>\n",
       "    </tr>\n",
       "    <tr>\n",
       "      <th>...</th>\n",
       "      <td>...</td>\n",
       "      <td>...</td>\n",
       "    </tr>\n",
       "    <tr>\n",
       "      <th>13164</th>\n",
       "      <td>USER jangan asal ngomong ndasmu. congor lu yg ...</td>\n",
       "      <td>jangan asal ngomong ndasmu congor lu yg sekat...</td>\n",
       "    </tr>\n",
       "    <tr>\n",
       "      <th>13165</th>\n",
       "      <td>USER Kasur mana enak kunyuk'</td>\n",
       "      <td>Kasur mana enak kunyuk</td>\n",
       "    </tr>\n",
       "    <tr>\n",
       "      <th>13166</th>\n",
       "      <td>USER Hati hati bisu :( .g\\n\\nlagi bosan huft \\...</td>\n",
       "      <td>Hati hati bisu g nlagi bosan huft</td>\n",
       "    </tr>\n",
       "    <tr>\n",
       "      <th>13167</th>\n",
       "      <td>USER USER USER USER Bom yang real mudah terdet...</td>\n",
       "      <td>Bom yang real mudah terdeteksi bom yang terku...</td>\n",
       "    </tr>\n",
       "    <tr>\n",
       "      <th>13168</th>\n",
       "      <td>USER Mana situ ngasih(\": itu cuma foto ya kuti...</td>\n",
       "      <td>Mana situ ngasih itu cuma foto ya kutil onta</td>\n",
       "    </tr>\n",
       "  </tbody>\n",
       "</table>\n",
       "<p>13169 rows × 2 columns</p>\n",
       "</div>"
      ],
      "text/plain": [
       "                                                     old  \\\n",
       "0      - disaat semua cowok berusaha melacak perhatia...   \n",
       "1      RT USER: USER siapa yang telat ngasih tau elu?...   \n",
       "2      41. Kadang aku berfikir, kenapa aku tetap perc...   \n",
       "3      USER USER AKU ITU AKU\\n\\nKU TAU MATAMU SIPIT T...   \n",
       "4      USER USER Kaum cebong kapir udah keliatan dong...   \n",
       "...                                                  ...   \n",
       "13164  USER jangan asal ngomong ndasmu. congor lu yg ...   \n",
       "13165                       USER Kasur mana enak kunyuk'   \n",
       "13166  USER Hati hati bisu :( .g\\n\\nlagi bosan huft \\...   \n",
       "13167  USER USER USER USER Bom yang real mudah terdet...   \n",
       "13168  USER Mana situ ngasih(\": itu cuma foto ya kuti...   \n",
       "\n",
       "                                                     new  \n",
       "0       disaat semua cowok berusaha melacak perhatian...  \n",
       "1       siapa yang telat ngasih tau elu edan sarap gu...  \n",
       "2      41 Kadang aku berfikir kenapa aku tetap percay...  \n",
       "3       AKU ITU AKU nKU TAU MATAMU SIPIT TAPI DILIAT ...  \n",
       "4       Kaum cebong kapir udah keliatan dongoknya dar...  \n",
       "...                                                  ...  \n",
       "13164   jangan asal ngomong ndasmu congor lu yg sekat...  \n",
       "13165                            Kasur mana enak kunyuk   \n",
       "13166         Hati hati bisu g nlagi bosan huft           \n",
       "13167   Bom yang real mudah terdeteksi bom yang terku...  \n",
       "13168      Mana situ ngasih itu cuma foto ya kutil onta   \n",
       "\n",
       "[13169 rows x 2 columns]"
      ]
     },
     "execution_count": 21,
     "metadata": {},
     "output_type": "execute_result"
    }
   ],
   "source": [
    "df_sql"
   ]
  }
 ],
 "metadata": {
  "kernelspec": {
   "display_name": "Python 3 (ipykernel)",
   "language": "python",
   "name": "python3"
  },
  "language_info": {
   "codemirror_mode": {
    "name": "ipython",
    "version": 3
   },
   "file_extension": ".py",
   "mimetype": "text/x-python",
   "name": "python",
   "nbconvert_exporter": "python",
   "pygments_lexer": "ipython3",
   "version": "3.11.4"
  }
 },
 "nbformat": 4,
 "nbformat_minor": 5
}
